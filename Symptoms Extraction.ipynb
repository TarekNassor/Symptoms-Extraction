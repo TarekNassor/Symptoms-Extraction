{
 "cells": [
  {
   "cell_type": "markdown",
   "id": "a34358d2-3000-4b06-bba2-0dc8f07cecb7",
   "metadata": {},
   "source": [
    "# <font color=white><center><b>SYMPTOMS EXTRACTION</center><br><center>using BERT model</b></center></font>"
   ]
  },
  {
   "cell_type": "markdown",
   "id": "c803394d-214f-401e-8f58-c14272e1230c",
   "metadata": {},
   "source": [
    "# Descritopn"
   ]
  },
  {
   "cell_type": "markdown",
   "id": "f0b3879f-08d2-4449-88fd-e25e477c5a06",
   "metadata": {},
   "source": [
    "## Project Overview\n",
    "This project aims to implement a text summarization model utilizing BERT for token classification to extract symptoms from text data.\n",
    "\n",
    "## Dependencies\n",
    "The project requires the following libraries:\n",
    "- `pandas`\n",
    "- `numpy`\n",
    "- `nltk`\n",
    "- `contractions`\n",
    "- `transformers`\n",
    "- `datasets`\n",
    "- `torch`\n",
    "- `rouge_score`\n",
    "\n",
    "## Key Steps in the Project\n",
    "\n",
    "1. **Data Cleaning**:\n",
    "   - The `text_cleaner` function processes each post to remove stopwords, contractions, and special characters, resulting in a cleaned text.\n",
    "\n",
    "2. **Label Preparation**:\n",
    "   - The `prepare_labels` function generates labels based on the presence of negative words in the cleaned text. If a negative word is found, it marks the corresponding label and the preceding words.\n",
    "\n",
    "3. **Data Splitting**:\n",
    "   - The dataset is shuffled and split into training, validation, and test sets.\n",
    "\n",
    "4. **Dataset Conversion**:\n",
    "   - The cleaned text and labels are converted into a format suitable for BERT training.\n",
    "\n",
    "5. **Model Training**:\n",
    "   - A BERT model for token classification is instantiated and trained using the Hugging Face `Trainer` API with defined training arguments. The model is saved for future use.\n",
    "\n",
    "6. **Extractive Summary Generation**:\n",
    "   - The `extractive_summary` function tokenizes input text and uses the trained model to identify and extract relevant sentences that contain negative sentiments.\n",
    "\n",
    "7. **Evaluation**:\n",
    "   - The ROUGE metric is used to evaluate the performance of the summarization model against reference summaries in the test set.\n",
    "\n",
    "## Results\n",
    "The average ROUGE scores are computed to evaluate the effectiveness of the summarization model on the test set.\n",
    "\n",
    "## Usage\n",
    "To run the project:\n",
    "1. Install the required libraries.\n",
    "3. Execute the code in a Python environment with GPU support for optimal performance.\n",
    "\n",
    "## Conclusion\n",
    "This project demonstrates the effectiveness of using BERT extractive summarization, providing insights into the emotional content of text data.\n",
    "g insights into the emotional content of text data.\r\n",
    "ing insights into the emotional content of text data.\r\n"
   ]
  },
  {
   "cell_type": "markdown",
   "id": "6e3a23e5-3a05-4c1b-80d1-59de94800a54",
   "metadata": {},
   "source": [
    "## Dataset\n",
    "The dataset comprises messages collected from individuals experiencing psychological illnesses. We will use this data to extract symptoms and better understand the concerns, feelings, and experiences of those seeking psychological support."
   ]
  },
  {
   "cell_type": "markdown",
   "id": "4bbc1061-abb7-4c23-a85f-c1b86f4e2912",
   "metadata": {},
   "source": [
    "## Ethical Considerations\n",
    "\n",
    "Due to the sensitive nature of the content and privacy concerns, the dataset cannot be shared publicly."
   ]
  },
  {
   "cell_type": "code",
   "execution_count": 1,
   "id": "2e480179-c644-4139-8651-a35f8006af55",
   "metadata": {},
   "outputs": [],
   "source": [
    "import pandas as pd\n",
    "import numpy as np\n",
    "import os\n",
    "\n",
    "import re\n",
    "import nltk\n",
    "from contractions import contractions_dict\n",
    "from nltk.tokenize import word_tokenize\n",
    "from nltk.corpus import stopwords\n",
    "\n",
    "from sklearn.model_selection import train_test_split\n",
    "\n",
    "from transformers import BertTokenizerFast, BertForTokenClassification, Trainer, TrainingArguments\n",
    "from datasets import Dataset, DatasetDict\n",
    "import torch"
   ]
  },
  {
   "cell_type": "code",
   "execution_count": 3,
   "id": "5e462e36-0a88-4255-b1c1-e97f93e4c63a",
   "metadata": {},
   "outputs": [
    {
     "name": "stderr",
     "output_type": "stream",
     "text": [
      "[nltk_data] Downloading package punkt to C:\\Users\\ASUS/nltk_data...\n",
      "[nltk_data]   Package punkt is already up-to-date!\n",
      "[nltk_data] Downloading package stopwords to\n",
      "[nltk_data]     C:\\Users\\ASUS/nltk_data...\n",
      "[nltk_data]   Package stopwords is already up-to-date!\n"
     ]
    },
    {
     "data": {
      "text/plain": [
       "True"
      ]
     },
     "execution_count": 3,
     "metadata": {},
     "output_type": "execute_result"
    }
   ],
   "source": [
    "nltk.download('punkt')\n",
    "nltk.download('stopwords')"
   ]
  },
  {
   "cell_type": "code",
   "execution_count": 5,
   "id": "2b34d576-aa3a-411c-a17d-e12dacb9ffef",
   "metadata": {},
   "outputs": [],
   "source": [
    "df = pd.read_csv(r\"data.csv\")\n",
    "df = df[['post']]"
   ]
  },
  {
   "cell_type": "code",
   "execution_count": 8,
   "id": "5a8ee116-5a25-4d8c-a079-ca6ac1934f21",
   "metadata": {},
   "outputs": [
    {
     "data": {
      "text/plain": [
       "'school makes me suicidal (please help) im a 16 year old girl from england. \\nive attempted suicide 6 times in the space of (almost) 2 years because of school.\\nmy head of year is supposed to help students with anxiety and let us sit outside her office but she just tells me to go away. i told her i was going to kill myself and she just told me to stop being dramatic. \\n\\nim feeling really suicidal right now, and i want to tell my mum because im scared im going to hurt myself, but she’ll just think im attention seeking. \\ni really dont know what to do. i start school in the morning at 7.30am and its 11:54pm right now. '"
      ]
     },
     "execution_count": 8,
     "metadata": {},
     "output_type": "execute_result"
    }
   ],
   "source": [
    "df.iloc[0, 0]"
   ]
  },
  {
   "cell_type": "code",
   "execution_count": 23,
   "id": "18051d75-a525-4f97-9b13-60f7d5b8cac3",
   "metadata": {},
   "outputs": [],
   "source": [
    "file_path = r\"C:\\\\Users\\\\ASUS\\\\Downloads\\\\negative-words.txt\"\n",
    "negative_words = []\n",
    "with open(file_path, 'r') as file:\n",
    "    for line in file:\n",
    "        word = line.strip()\n",
    "        if word:\n",
    "            negative_words.append(word)"
   ]
  },
  {
   "cell_type": "code",
   "execution_count": 24,
   "id": "c1a96f9f-bc75-4f2c-a8f6-2e27bcfc3b28",
   "metadata": {},
   "outputs": [],
   "source": [
    "stop_words = set(stopwords.words('english'))\n",
    "\n",
    "def text_cleaner(text, remove_stopwords=True):\n",
    "    newString = text.lower()\n",
    "    newString = re.sub(r'\\([^)]*\\)', '', newString)\n",
    "    newString = re.sub('\"', '', newString)\n",
    "    newString = ' '.join([contractions_dict.get(t, t) for t in newString.split(\" \")])\n",
    "    newString = re.sub(r\"'s\\b\", \"\", newString)\n",
    "    newString = re.sub(r\"[^a-zA-Z]\", \" \", newString)\n",
    "    newString = re.sub(r\"\\s+\", ' ', newString)\n",
    "    tokens = [w for w in newString.split() if not w in stop_words] if remove_stopwords else newString.split()\n",
    "    return \" \".join([w for w in tokens if len(w) > 1]).strip()"
   ]
  },
  {
   "cell_type": "code",
   "execution_count": 25,
   "id": "d3e8be43-15f8-42b2-857b-4584e55d3bd3",
   "metadata": {},
   "outputs": [],
   "source": [
    "def prepare_labels(text, negative_words):\n",
    "    tokens = word_tokenize(text)\n",
    "    labels = [0] * len(tokens)\n",
    "    for i, token in enumerate(tokens):\n",
    "        if token in negative_words:\n",
    "            labels[i] = 1\n",
    "            if i > 1:\n",
    "                labels[i - 1] = 1\n",
    "                labels[i - 2] = 1\n",
    "    return labels"
   ]
  },
  {
   "cell_type": "code",
   "execution_count": 26,
   "id": "20233582-7f42-4898-a020-547f79c8694b",
   "metadata": {},
   "outputs": [],
   "source": [
    "df['post'] = df['post'].apply(lambda x: text_cleaner(x, remove_stopwords=True))\n",
    "df['labels'] = df['post'].apply(lambda x: prepare_labels(x, negative_words))"
   ]
  },
  {
   "cell_type": "code",
   "execution_count": 39,
   "id": "ab3bdef2-b1ab-4799-8ad9-bbb99613a474",
   "metadata": {},
   "outputs": [
    {
     "data": {
      "text/plain": [
       "'want keep mind aby longer want write long story make boring let say think worth living im tired life first ugly tell everyone beautiful literally ugly lot people told straight care health cannot anything ugly face second good anything school one joke friend left week ago boring really hard one cared lot passions sens humor actually cares also difficult family arent loving supporting want life wanted im hopeless want kill self couse one needs hurting thinking long wanted write maybe someone notice feel lonely hopeless know probably think complaining selfish kid know anything life also want apologize english native language still learning sorry taking time thanks everything'"
      ]
     },
     "execution_count": 39,
     "metadata": {},
     "output_type": "execute_result"
    }
   ],
   "source": [
    "df.iloc[0, 0]"
   ]
  },
  {
   "cell_type": "code",
   "execution_count": 28,
   "id": "cd30fd1d-511a-4bb8-916e-3f0bbba70a31",
   "metadata": {},
   "outputs": [
    {
     "data": {
      "text/plain": [
       "[1,\n",
       " 1,\n",
       " 1,\n",
       " 1,\n",
       " 1,\n",
       " 0,\n",
       " 0,\n",
       " 0,\n",
       " 1,\n",
       " 1,\n",
       " 1,\n",
       " 1,\n",
       " 1,\n",
       " 1,\n",
       " 1,\n",
       " 1,\n",
       " 1,\n",
       " 1,\n",
       " 1,\n",
       " 1,\n",
       " 1,\n",
       " 0,\n",
       " 0,\n",
       " 1,\n",
       " 1,\n",
       " 1,\n",
       " 0,\n",
       " 0,\n",
       " 0,\n",
       " 1,\n",
       " 1,\n",
       " 1,\n",
       " 1,\n",
       " 1,\n",
       " 1,\n",
       " 1,\n",
       " 1,\n",
       " 1,\n",
       " 1,\n",
       " 0,\n",
       " 1,\n",
       " 1,\n",
       " 1,\n",
       " 1,\n",
       " 1,\n",
       " 1,\n",
       " 1,\n",
       " 1,\n",
       " 1,\n",
       " 1,\n",
       " 1,\n",
       " 1,\n",
       " 1,\n",
       " 1,\n",
       " 1,\n",
       " 1,\n",
       " 1,\n",
       " 1,\n",
       " 0,\n",
       " 0]"
      ]
     },
     "execution_count": 28,
     "metadata": {},
     "output_type": "execute_result"
    }
   ],
   "source": [
    "df.iloc[0, 1]"
   ]
  },
  {
   "cell_type": "code",
   "execution_count": 29,
   "id": "880c6459-71f7-4072-b425-8cc8f4458ed8",
   "metadata": {},
   "outputs": [],
   "source": [
    "df = df.sample(frac=1, random_state=42).reset_index(drop=True)\n",
    "train, test = train_test_split(df, test_size=0.2, random_state=42)\n",
    "validation, test = train_test_split(test, test_size=0.5, random_state=42)"
   ]
  },
  {
   "cell_type": "code",
   "execution_count": 12,
   "id": "76dec43d-85f8-44f6-b452-015fa917b03e",
   "metadata": {},
   "outputs": [],
   "source": [
    "def convert_to_dataset(data):\n",
    "    return Dataset.from_dict({\n",
    "        'text': data['post'].apply(word_tokenize).tolist(),\n",
    "        'labels': data['labels'].tolist()\n",
    "    })"
   ]
  },
  {
   "cell_type": "code",
   "execution_count": 13,
   "id": "61566d9e-13eb-4a63-b3f7-4fddabea1f12",
   "metadata": {},
   "outputs": [],
   "source": [
    "train_dataset = convert_to_dataset(train)\n",
    "validation_dataset = convert_to_dataset(validation)\n",
    "test_dataset = convert_to_dataset(test)"
   ]
  },
  {
   "cell_type": "code",
   "execution_count": 14,
   "id": "3c720619-0609-4e1f-8733-4b683e4ea868",
   "metadata": {},
   "outputs": [],
   "source": [
    "dataset_dict = {'train': train_dataset, 'dev': validation_dataset, 'test': test_dataset}\n",
    "dataset = DatasetDict(dataset_dict)"
   ]
  },
  {
   "cell_type": "code",
   "execution_count": 15,
   "id": "cd156e42-bce1-4d94-8ec6-33a3e0139a14",
   "metadata": {},
   "outputs": [
    {
     "name": "stderr",
     "output_type": "stream",
     "text": [
      "Some weights of BertForTokenClassification were not initialized from the model checkpoint at bert-base-uncased and are newly initialized: ['classifier.bias', 'classifier.weight']\n",
      "You should probably TRAIN this model on a down-stream task to be able to use it for predictions and inference.\n"
     ]
    }
   ],
   "source": [
    "checkpoint = \"bert-base-uncased\"\n",
    "tokenizer = BertTokenizerFast.from_pretrained(checkpoint)\n",
    "model = BertForTokenClassification.from_pretrained(checkpoint, num_labels=2)"
   ]
  },
  {
   "cell_type": "code",
   "execution_count": 16,
   "id": "89cf5b2d-6c75-4312-9495-02042edb5f8e",
   "metadata": {},
   "outputs": [],
   "source": [
    "def preprocess_function(examples):\n",
    "    texts = examples['text']\n",
    "    labels = examples['labels']\n",
    "    tokenized_inputs = tokenizer(texts, truncation=True, padding='max_length', max_length=512, is_split_into_words=True)\n",
    "    \n",
    "    aligned_labels = []\n",
    "    for i, label in enumerate(labels):\n",
    "        word_ids = tokenized_inputs.word_ids(batch_index=i)\n",
    "        aligned_label = [-100 if i is None else label[i] for i in word_ids]\n",
    "        aligned_labels.append(aligned_label)\n",
    "    \n",
    "    tokenized_inputs[\"labels\"] = aligned_labels\n",
    "    return tokenized_inputs"
   ]
  },
  {
   "cell_type": "code",
   "execution_count": 17,
   "id": "99dd6e62-b7e2-4fd1-9694-baddd44ea418",
   "metadata": {},
   "outputs": [
    {
     "data": {
      "application/vnd.jupyter.widget-view+json": {
       "model_id": "481eab477faf4221ba4e414f5649d2f0",
       "version_major": 2,
       "version_minor": 0
      },
      "text/plain": [
       "Map:   0%|          | 0/800 [00:00<?, ? examples/s]"
      ]
     },
     "metadata": {},
     "output_type": "display_data"
    },
    {
     "data": {
      "application/vnd.jupyter.widget-view+json": {
       "model_id": "9630b648c960443095c344ddcba679b9",
       "version_major": 2,
       "version_minor": 0
      },
      "text/plain": [
       "Map:   0%|          | 0/100 [00:00<?, ? examples/s]"
      ]
     },
     "metadata": {},
     "output_type": "display_data"
    },
    {
     "data": {
      "application/vnd.jupyter.widget-view+json": {
       "model_id": "79ca04b313204dc98d4f43e465981581",
       "version_major": 2,
       "version_minor": 0
      },
      "text/plain": [
       "Map:   0%|          | 0/100 [00:00<?, ? examples/s]"
      ]
     },
     "metadata": {},
     "output_type": "display_data"
    }
   ],
   "source": [
    "tokenized_dataset = dataset.map(preprocess_function, batched=True, remove_columns=[\"text\", \"labels\"])"
   ]
  },
  {
   "cell_type": "code",
   "execution_count": 18,
   "id": "04ab3182-89d5-44ba-b2d5-050da7dea261",
   "metadata": {},
   "outputs": [],
   "source": [
    "training_args = TrainingArguments(\n",
    "    output_dir=\"symptoms_extraction_model\",\n",
    "    eval_strategy=\"epoch\",\n",
    "    logging_dir='./logs',\n",
    "    logging_steps=10,\n",
    "    per_device_train_batch_size=8,\n",
    "    per_device_eval_batch_size=8,\n",
    "    num_train_epochs=20,\n",
    "    weight_decay=0.01,\n",
    "    load_best_model_at_end=True,\n",
    "    save_strategy=\"epoch\"\n",
    ")"
   ]
  },
  {
   "cell_type": "code",
   "execution_count": 19,
   "id": "5ac0096e-9cbd-48e7-8301-7ac2fdce7109",
   "metadata": {},
   "outputs": [],
   "source": [
    "trainer = Trainer(\n",
    "    model=model,\n",
    "    args=training_args,\n",
    "    train_dataset=tokenized_dataset[\"train\"],\n",
    "    eval_dataset=tokenized_dataset[\"dev\"],\n",
    "    tokenizer=tokenizer,\n",
    ")"
   ]
  },
  {
   "cell_type": "code",
   "execution_count": 20,
   "id": "208ce6cf-433e-4d87-a1e2-f998328cf386",
   "metadata": {},
   "outputs": [
    {
     "data": {
      "text/html": [
       "\n",
       "    <div>\n",
       "      \n",
       "      <progress value='500' max='500' style='width:300px; height:20px; vertical-align: middle;'></progress>\n",
       "      [500/500 1:45:52, Epoch 5/5]\n",
       "    </div>\n",
       "    <table border=\"1\" class=\"dataframe\">\n",
       "  <thead>\n",
       " <tr style=\"text-align: left;\">\n",
       "      <th>Epoch</th>\n",
       "      <th>Training Loss</th>\n",
       "      <th>Validation Loss</th>\n",
       "    </tr>\n",
       "  </thead>\n",
       "  <tbody>\n",
       "    <tr>\n",
       "      <td>1</td>\n",
       "      <td>0.221500</td>\n",
       "      <td>0.175372</td>\n",
       "    </tr>\n",
       "    <tr>\n",
       "      <td>2</td>\n",
       "      <td>0.097400</td>\n",
       "      <td>0.098395</td>\n",
       "    </tr>\n",
       "    <tr>\n",
       "      <td>3</td>\n",
       "      <td>0.062700</td>\n",
       "      <td>0.088119</td>\n",
       "    </tr>\n",
       "    <tr>\n",
       "      <td>4</td>\n",
       "      <td>0.022100</td>\n",
       "      <td>0.092828</td>\n",
       "    </tr>\n",
       "    <tr>\n",
       "      <td>5</td>\n",
       "      <td>0.018900</td>\n",
       "      <td>0.097635</td>\n",
       "    </tr>\n",
       "  </tbody>\n",
       "</table><p>"
      ],
      "text/plain": [
       "<IPython.core.display.HTML object>"
      ]
     },
     "metadata": {},
     "output_type": "display_data"
    },
    {
     "data": {
      "text/plain": [
       "TrainOutput(global_step=500, training_loss=0.11669053062796593, metrics={'train_runtime': 6366.0346, 'train_samples_per_second': 0.628, 'train_steps_per_second': 0.079, 'total_flos': 1045187026944000.0, 'train_loss': 0.11669053062796593, 'epoch': 5.0})"
      ]
     },
     "execution_count": 20,
     "metadata": {},
     "output_type": "execute_result"
    }
   ],
   "source": [
    "trainer.train()"
   ]
  },
  {
   "cell_type": "code",
   "execution_count": null,
   "id": "7d7365bc-58bb-498a-80ad-2a4b340c0977",
   "metadata": {},
   "outputs": [],
   "source": [
    "trainer.save_model('path')"
   ]
  },
  {
   "cell_type": "code",
   "execution_count": 30,
   "id": "b79c9312-3899-407e-be88-2432dd4c772c",
   "metadata": {},
   "outputs": [],
   "source": [
    "loaded_model = BertForTokenClassification.from_pretrained(r'C:\\Users\\ASUS\\Desktop\\Projects\\Abeer Project\\model')\n",
    "loaded_tokenizer = BertTokenizerFast.from_pretrained(r'C:\\Users\\ASUS\\Desktop\\Projects\\Abeer Project\\model')"
   ]
  },
  {
   "cell_type": "code",
   "execution_count": 31,
   "id": "37fc434a-1c76-43f3-8bb2-c044310163f4",
   "metadata": {},
   "outputs": [],
   "source": [
    "from nltk.tokenize import sent_tokenize\n",
    "\n",
    "def extractive_summary(text, model, tokenizer, max_length=512):\n",
    "    sentences = sent_tokenize(text)\n",
    "    summary_sentences = []\n",
    "\n",
    "    for sentence in sentences:\n",
    "        tokens = word_tokenize(sentence)\n",
    "        inputs = tokenizer(tokens, return_tensors=\"pt\", padding=True, truncation=True, max_length=max_length, is_split_into_words=True)\n",
    "        outputs = model(**inputs)\n",
    "        logits = outputs.logits\n",
    "        predictions = torch.argmax(logits, dim=-1).squeeze().tolist()\n",
    "\n",
    "        if 1 in predictions:\n",
    "            summary_tokens = [token for token, pred in zip(tokens, predictions) if pred == 1]\n",
    "            summary_sentence = ' '.join(summary_tokens)\n",
    "            summary_sentences.append(summary_sentence)\n",
    "\n",
    "    summary = ', '.join(summary_sentences)\n",
    "    return summary"
   ]
  },
  {
   "cell_type": "code",
   "execution_count": 66,
   "id": "ade982af-8bcf-4bd8-ae0f-e8a177b75588",
   "metadata": {},
   "outputs": [],
   "source": [
    "def extractive_summary(text, model, tokenizer, max_length=512):\n",
    "    stop_words = set(stopwords.words('english'))\n",
    "    sentences = sent_tokenize(text)\n",
    "    summary_sentences = []\n",
    "\n",
    "    for sentence in sentences:\n",
    "        tokens = word_tokenize(sentence)\n",
    "        inputs = tokenizer(tokens, return_tensors=\"pt\", padding=True, truncation=True, max_length=max_length, is_split_into_words=True)\n",
    "        outputs = model(**inputs)\n",
    "        logits = outputs.logits\n",
    "        predictions = torch.argmax(logits, dim=-1).squeeze().tolist()\n",
    "        \n",
    "        if 1 in predictions:\n",
    "            summary_tokens = [token for token, pred in zip(tokens, predictions) if pred == 1]\n",
    "            \n",
    "            while summary_tokens and summary_tokens[-1].lower() in stop_words:\n",
    "                summary_tokens.pop()\n",
    "            \n",
    "            summary_sentence = ' '.join(summary_tokens)\n",
    "            summary_sentence = summary_sentence.rstrip('. ').strip()\n",
    "            \n",
    "            if len(summary_tokens) > 1:\n",
    "                summary_sentences.append(summary_sentence)\n",
    "                print(summary_sentence)"
   ]
  },
  {
   "cell_type": "code",
   "execution_count": 67,
   "id": "014bce51-a98c-4698-bdce-9b5d18b43fca",
   "metadata": {},
   "outputs": [
    {
     "name": "stdout",
     "output_type": "stream",
     "text": [
      "been injured\n",
      "foot which triggering anxiety and depression\n",
      "a amount of pain\n",
      "extreme fear of my injuries worse and some agoraphobia\n",
      "trouble taking\n",
      "homeless\n"
     ]
    }
   ],
   "source": [
    "text = \"\"\"parents are going to stop supporting me. so for the past two years I've been pretty injured. As of right now foot injury which is triggering anxiety and depression. I can't walk more than a mile a day. Im in a good amount of pain all day. I also hate myself a lot these days.\\n\\nAnyways I've had to drop out of another semester of college, its my second time. Mm a senior and have 8 classes left. I have an extreme fear of making my injuries worse and have developed some agoraphobia. my parents right now are support my college and rent. Im having trouble taking care of myself, and now they tell me they are going to stop supporting me this upcoming summer. and if I screw up, and can't support myself, they won't catch me from falling. Basically they will let me become homeless. What are your thoughts?\"\"\"\n",
    "extractive_summary(text, loaded_model, loaded_tokenizer)"
   ]
  },
  {
   "cell_type": "code",
   "execution_count": 33,
   "id": "ea304f62-3f8b-488a-bbca-e3933bf307fa",
   "metadata": {},
   "outputs": [],
   "source": [
    "from rouge_score import rouge_scorer"
   ]
  },
  {
   "cell_type": "code",
   "execution_count": 34,
   "id": "8ed71be1-867b-4553-86ae-284f5c3f4875",
   "metadata": {},
   "outputs": [],
   "source": [
    "scorer = rouge_scorer.RougeScorer(['rouge1', 'rouge2', 'rougeL'], use_stemmer=True)"
   ]
  },
  {
   "cell_type": "code",
   "execution_count": 35,
   "id": "954e224b-e978-4cf3-887c-5aa098785d60",
   "metadata": {},
   "outputs": [],
   "source": [
    "def extractive_summary(text, model, tokenizer, max_length=512):\n",
    "    sentences = sent_tokenize(text)\n",
    "    summary_sentences = []\n",
    "\n",
    "    for sentence in sentences:\n",
    "        tokens = word_tokenize(sentence)\n",
    "        inputs = tokenizer(tokens, return_tensors=\"pt\", padding=True, truncation=True, max_length=max_length, is_split_into_words=True)\n",
    "        outputs = model(**inputs)\n",
    "        logits = outputs.logits\n",
    "        predictions = torch.argmax(logits, dim=-1).squeeze().tolist()\n",
    "\n",
    "        if 1 in predictions:\n",
    "            summary_tokens = [token for token, pred in zip(tokens, predictions) if pred == 1]\n",
    "            summary_sentence = ' '.join(summary_tokens)\n",
    "            summary_sentences.append(summary_sentence)\n",
    "\n",
    "    summary = ' '.join(summary_sentences)\n",
    "    return summary"
   ]
  },
  {
   "cell_type": "code",
   "execution_count": 36,
   "id": "96b4f82d-f40c-4510-a081-2aa58181985d",
   "metadata": {},
   "outputs": [],
   "source": [
    "def reconstruct_summary_from_labels(text, labels):\n",
    "    tokens = word_tokenize(text)\n",
    "    assert len(tokens) == len(labels)\n",
    "    summary_tokens = [token for token, label in zip(tokens, labels) if label == 1]\n",
    "    return ' '.join(summary_tokens)"
   ]
  },
  {
   "cell_type": "code",
   "execution_count": 37,
   "id": "6952d80a-c5ac-4525-930b-03bfb3d3e5f2",
   "metadata": {},
   "outputs": [
    {
     "name": "stdout",
     "output_type": "stream",
     "text": [
      "Reference Summary Type: <class 'str'>\n",
      "Predicted Summary Type: <class 'str'>\n",
      "Reference Summary: point year old man job many years go back living parents ex girlfriend years cheated social skills completely gone trust can not talk anymore let alone woman deeply miserable show plan head time death tried get job job one would hire stuck parents helping business making little money nowhere near enough living feel absolutely useless wonder point able even support barely education even finish college point suffering want die\n",
      "Predicted Summary: years cheated social deeply miserable show time death comes hire stuck parents absolutely useless wonder point suffering want die\n",
      "Reference Summary Type: <class 'str'>\n",
      "Predicted Summary Type: <class 'str'>\n",
      "Reference Summary: new years day feeling lil hopeful immediately get scammed mistake kill last\n",
      "Predicted Summary: scammed mistake kill last christmas\n",
      "Reference Summary Type: <class 'str'>\n",
      "Predicted Summary Type: <class 'str'>\n",
      "Reference Summary: year going one year pixels things track much depression actually affects day day life time next year post results wish luck year already bad start maybe benefit people good tool psychology students study\n",
      "Predicted Summary: much depression actually already bad start\n",
      "Reference Summary Type: <class 'str'>\n",
      "Predicted Summary Type: <class 'str'>\n",
      "Reference Summary: imagine alternate universe version make mistakes timeline got job fuck date realized important grades addicted porn everyone away really appropriate sub post knew fuck thought figured new year\n",
      "Predicted Summary: make mistakes made job fuck date grades addicted porn knew fuck thought\n",
      "Reference Summary Type: <class 'str'>\n",
      "Predicted Summary Type: <class 'str'>\n",
      "Reference Summary: afraid afraid show emotion always stone faced afraid express people reject come boring non interesting person honestly blame people inviting parties boring quiet worst thing aware nobody dislike sit quietly try annoy anyone afraid going grow old alone greatest fear one day fat middle aged never anything resembling love life afraid express true emotions told anyone true feelings years feel alone\n",
      "Predicted Summary: afraid show faced afraid express people reject come boring non honestly blame people parties boring quiet worst thing nobody dislike sit try annoy anyone afraid going grow fear one day fat middle aged afraid express true\n",
      "Reference Summary Type: <class 'str'>\n",
      "Predicted Summary Type: <class 'str'>\n",
      "Reference Summary: birthday today graduated good us masters mechanical engineering watch lot way grad school get jobs decent salary struggling find job graduated may international student seen family three years today birthday alone one home friends afford got three birthday wishes parents close friend think suicide worked hard throw away good hardworking guy means cheated tests work also get chance happiness lonely depressed forgot feels happy anyways thank reading listening rant happy new year\n",
      "Predicted Summary: peers cheated way struggling find job suicide going worked hard throw away hardworking means tests work companies depressed honestly forgot feels new year\n",
      "Reference Summary Type: <class 'str'>\n",
      "Predicted Summary Type: <class 'str'>\n",
      "Reference Summary: know everyone lonely shit can not make thru night see done point work new years busy ass restaurant half staff call thing go wrong work family friends celebrating enjoying know might lose manager position not get anxiety stress one person best friend turn try feel assurance fucked life waste lockdown parents phone internet contact outside world supposed spend work least outside crying eyes wondering slit wrist work worst year idk posting feel tired worn broken\n",
      "Predicted Summary: everyone lonely shit idk wrong work family lose manager position anxiety stress one person waste lockdown parents year want see idk posting feel broken sorry\n",
      "Reference Summary Type: <class 'str'>\n",
      "Predicted Summary Type: <class 'str'>\n",
      "Reference Summary: nobody likes music clothes humor personality appearance\n",
      "Predicted Summary: \n",
      "Reference Summary Type: <class 'str'>\n",
      "Predicted Summary Type: <class 'str'>\n",
      "Reference Summary: exist hi nice meet gets noticed others feel insecure ugly boring awkward always mess things true real life friends anything sit front tv computer free time planning killing live anymore tired\n",
      "Predicted Summary: meet loser complete feel insecure ugly boring awkward always mess things true killing want live tired nothing\n",
      "Reference Summary Type: <class 'str'>\n",
      "Predicted Summary Type: <class 'str'>\n",
      "Reference Summary: disgusted see people celebrating big little new years another excuse sheep get belligerent numbing bigger picture tradition fuck thing christmas new years masterclass capitalism work halloween etc crash courses capitalism new years phd makes sick sheep hard earned loot things live without really yield anything substance one fleeting moment feigned happiness worth miserable retail therapy turn feel better one moment shit topical anaesthetic never getting meat society doomed culture exist anymore afraid history relentless pursuit creating unified world negating rich cultural heritages curated leave negatives sex really thing matters life seems everyones prime motive make money attract cheap people know got money another topical anaesthetic might well monopoly money none gets real substance reason want quench insatiable thirst anyone claims sex core never got enough lies taking fake moral high ground fuck living era plethoras shit relationships abound relationships formed hedonists later life hide pasts partners wholesome fuck relic long defunct past relationships sex appeal little idiosyncrasies make want someone long little quirky things make right even dabble fornication wrong part great lasting relationship harder harder find moving forward even exist lot false pretences people seldom honest thinking lies get ahead land deeper hole honest others society today pathetic every single person old glued damn smart devices serve purpose dumb perfect irony living technosheep instead real humans thrive personal contact sickening everyone living lives viewing pleasure ideal never really go beyond surface might factions people adhere new way life fuck getting worse buy buy buy drink drink drink fuck used feel like outsider alien walking around foreign planet lately feel around like sheep prancing around perfect world\n",
      "Predicted Summary: see another excuse sheep behind christmas new years christmas phd earned loot things think can not miserable retail therapy one moment shit society doomed culture creating unified world rich cultural heritages curated leave really thing matters life make money attract cheap money none gets real substance fucking anyone sex core never high ground fuck living era plethoras shit relationships swiping right app phones fucks absolutely repulsive breading later life hide pasts partners long little quirky things make lasting relationship become smart devices serve purpose dumb perfect everyone living lives renditions ideal never surface might factions life fuck getting buy buy drink drink drink lately feel like way\n",
      "Reference Summary Type: <class 'str'>\n",
      "Predicted Summary Type: <class 'str'>\n",
      "Reference Summary: feeling lonely depressed nye feel free reach hiya redditors depression person suffers depression social anxiety know like feel lonely particularly big anyone feeling lonely depressed feel nobody deserves depressed especially holiday supposed happy hopeful welcome messages wonderful\n",
      "Predicted Summary: lonely depressed nye depression person suffers depression social anxiety know like feel lonely particularly holidays like anyone free pm nobody deserves supposed happy hopeful\n",
      "Reference Summary Type: <class 'str'>\n",
      "Predicted Summary Type: <class 'str'>\n",
      "Reference Summary: currently sure writing guess need put thoughts somewhere felt dreadful years progressively getting worse point hating fibre never really spoken anyone thoughts feelings maybe depressed maybe normal feel tells however sympathy writing intend turn life around want lose weight put work university maybe pick hobbies try social intend return post months months year hopefully managed change life better hope whoever wherever hope fantastic year god bless\n",
      "Predicted Summary: felt dreadful years getting worse point hating every maybe depressed maybe want lose weight\n",
      "Reference Summary Type: <class 'str'>\n",
      "Predicted Summary Type: <class 'str'>\n",
      "Reference Summary: hate holidays year especially joined amp group year trying make friends none want friends anyways texting group chat past days new years party everyone one person asked could make come nothing party tonight early morning get text dm asking back thinking ok asks coming yeah asked back said slightly like oh good one asking main chat hurts excluded can not really get said party get back home could least offer ask quiet anything thought counts thinking made easier cruel looking forward next game\n",
      "Predicted Summary: holidays assume drive thus next game around\n",
      "Reference Summary Type: <class 'str'>\n",
      "Predicted Summary Type: <class 'str'>\n",
      "Reference Summary: feels like endless work right got need feed pets clean litter box brush teeth start laundry eat like much anxious want go back bed shut care today done probably feel okay case every day today feel could get good place try tomorrow everything hard feel tty get things done weight two hours boat always stuff need clean house make phone calls shovel snow get dressed eat stops sometimes feel good gotten somewhat top things point like endless wild goose chase able feel good regardless conditions around list also basic stuff kids relationships manage hobbies hours work week keep animals starving dying poverty filth negligence going go list morning stuff least keep things getting worse wish feel futile\n",
      "Predicted Summary: much anxious right everything hard feel heck even two wild goose chase poverty filth negligence hard going go list morning feel futile\n",
      "Reference Summary Type: <class 'str'>\n",
      "Predicted Summary Type: <class 'str'>\n",
      "Reference Summary: advice college student stuck rut bit background struggling years severe depression currently rd year college main drive life eventually get job seas help people around world studying political science minor international relations plans continue law school thing getting really restless along way future job mind requires bachelor degree afraid degree political science really get anywhere long run law degree back case things go planned considered going student exchanges due economic problems family prioritize expenses necessities rico also deal aftermath hurricane maria university delayed months new schedule due able fulfill desire travel feel going around world fact stuck couple years buried lectures killing motivation tried distract different hobbies volunteer work going friends helping want drop college finding road ahead really tedious like hear dealt similar kind rut could maybe find grades go cause depression thanks reading happy new year\n",
      "Predicted Summary: student stuck rut bit background struggling years severe depression currently rd restless along way afraid degree political problems family prioritize clashed semester new killing motivation tried hobbies volunteer work going friends nothing rut could maybe find go cause depression thanks\n",
      "Reference Summary Type: <class 'str'>\n",
      "Predicted Summary Type: <class 'str'>\n",
      "Reference Summary: letters something dont really usually use reddit giggle shits im depressed desperate one talk come hoping pour heart pours blood girl best friend known like years never thought could love much past saw annoying stubborn whiny time goes couldnt help fell madly love make move last summer straight rejected big fight didnt talk like months worst months wanting kill time constantly everybody bumped end think cried lot like warmest hug ever entire life moment dont want lose kills without inside outside happening one night friend want take step upset night deep couldnt back nobody could help back shouldnt care nobody care dead dead inside nobody could help could help didnt want friend know fuck thinking thought would somehow solution know got cold wouldnt talk weeks knew wrong pretended want anything mess head rn im exam couple days cant stand harsh dry tone christmas new year thank christmas gift tried ignore played cool want fucking kill cared said need talk exam fear might get rejected also seriously damage friendship fear might break dont want loss reason stopped thinking killing buf cant stand friend think cringy love desperate nice guy hates women reject think im different known girl years cant help love internet guys call wimp whining subject people constantly laugh dont care want write something empty thoughts one person always talk problems cold many fishes stuff tell ppl lot im sick like dying sick doctor tell die miraculously live spend many brain cells picturing hanging noose pills razor smoked lot chest hurt couldnt sleep well night cant smile anymore make sincerely taking time read sorry lack punctuations apostrophes write feeling bad couldnt cry cant hands shaking rn want kill bad rn help im suicidal\n",
      "Predicted Summary: one talk come hoping pour goes couldnt help fell madly love make summer straight rejected big worst months wanting bumped end november think cried lot hugged saying missed moment realized dont asked told still feelings said shouldnt care nobody fuck thinking thought would wrong pretended didnt know im exam couple harsh dry tone gift tried ignore see cared said need damage friendship fear dont want loss reason cant stand friend sometimes think cringy desperate nice guy neckbeard hates women reject internet think im different girl years cant wimp whining subject people constantly dont care want write something empty thoughts ppl lot im sick like dying razor smoked lot chest punctuations apostrophes write feeling bad couldnt cry though want\n",
      "Reference Summary Type: <class 'str'>\n",
      "Predicted Summary Type: <class 'str'>\n",
      "Reference Summary: feel better social life felt like social outcast long remember always felt everyone else constantly running going parties hanging article showed front page helps feel lot maybe actually social outcast\n",
      "Predicted Summary: social outcast long remember outcast maybe either\n",
      "Reference Summary Type: <class 'str'>\n",
      "Predicted Summary Type: <class 'str'>\n",
      "Reference Summary: anyone still depressed matter six nights week work full time sex yet still feel hollow thought needed things depressed matter\n",
      "Predicted Summary: still depressed matter feel hollow thought things depressed matter\n",
      "Reference Summary Type: <class 'str'>\n",
      "Predicted Summary Type: <class 'str'>\n",
      "Reference Summary: unemployed nearly month three interviews couple phone masse yet god sitting around house sucks miss buying things without quick mental see could afford intend joining plumbers union god help\n",
      "Predicted Summary: nearly sucks miss buying things\n",
      "Reference Summary Type: <class 'str'>\n",
      "Predicted Summary Type: <class 'str'>\n",
      "Reference Summary: think tonight night\n",
      "Predicted Summary: \n",
      "Reference Summary Type: <class 'str'>\n",
      "Predicted Summary Type: <class 'str'>\n",
      "Reference Summary: anyone else thinking deserve love even though friends otherwise still feel guilty done unworthy\n",
      "Predicted Summary: feel guilty done unworthy everything\n",
      "Reference Summary Type: <class 'str'>\n",
      "Predicted Summary Type: <class 'str'>\n",
      "Reference Summary: new year eve feels shit already well celebrated new yrs eve family parent get divorced soon mother cheated father younger siblings clue happening closet sexuality uprising eating disorder sit like living cliche front listening show go feeling terrible anybody especially closet thing\n",
      "Predicted Summary: feels shit already cheated father younger uprising eating disorder sit like cliche front listening show amp unmotivated sorry needed tell anybody especially closet\n",
      "Reference Summary Type: <class 'str'>\n",
      "Predicted Summary Type: <class 'str'>\n",
      "Reference Summary: even fucking try depressive rant friends ask never hang time actually go friends comes one point actively invites things particularly one main group friends honestly afraid afraid actively tried hang people end kept locked years always relied people invite rather planning asking join along friendless convince would sit house week social contact would work get depressed feel lonely feel like friends nobody talk yet people message almost every day get invited things occasionally people told hit ever want hang never unless invite fucking hate actual post try today know could hit someone asked today even fucking try sitting home high fucking kite nasty anxiety attack entire day fucking sick girlfriend work not actually shit fuck getting high games fuck edit since high self hate train clean tomorrow deeper fuck love paint ugly picture believe real always make lower else never cut realize bullshit love fucking realize anxiety head\n",
      "Predicted Summary: try depressive rant friends always ask time whenever actually afraid actively tried hang people end scaring feel like friends nobody talk invite fucking hate post try today know home high fucking anxiety attack entire day fucking sick girlfriend work can not actually high playing video games high self hate tomorrow might well ugly picture believe real always make bullshit love fucking realize anxiety head yet let get anyways\n",
      "Reference Summary Type: <class 'str'>\n",
      "Predicted Summary Type: <class 'str'>\n",
      "Reference Summary: family estranged late thirties parents intents purposes estranged sibling anyone boat\n",
      "Predicted Summary: late purposes estranged sibling anyone\n",
      "Reference Summary Type: <class 'str'>\n",
      "Predicted Summary Type: <class 'str'>\n",
      "Reference Summary: even enjoy drugs alcohol really computers gaming shit songs nice speaker setup studio headphones get idea loved shit entire life last week realized even play hours played last weeks watch netflix maybe listen like songs day used time sit reddit refreshing page hoping see news article seconds trying hang friends back town super fucking negative stuff would say conversation would tearing person idea top friends leave today tomorrow friday going stuck room entertainment system want use entertainment system specifically keep occupied else would thought drinking care cared recognizing indifference really give shit smoking weed whenever got chance even want high getting increasingly worried girlfriend sees burden person really talk goes way help much long right feel hollow\n",
      "Predicted Summary: gaming shit pc shit entire life friends back town negative stuff would say room entertainment system really give shit smoking weed whenever got chance girlfriend sees burden person really talk\n",
      "Reference Summary Type: <class 'str'>\n",
      "Predicted Summary Type: <class 'str'>\n",
      "Reference Summary: quit job need urgent advice job everybody mothers complain working job sucks bosses total cunts uncouth rude yell everyone want shit can not work tv repair company take broken tv fix em sell em broke one going sue reckon good case tv prone position get damaged know win case im still nervous anxious really want quit need money need advice\n",
      "Predicted Summary: need urgent advice job sucks know mothers complain working job sucks bosses total unprofessional cunts uncouth rude yell everyone want shit can not work tv company take broken broke one going case tv prone position get damaged nervous anxious really money need advice\n",
      "Reference Summary Type: <class 'str'>\n",
      "Predicted Summary Type: <class 'str'>\n",
      "Reference Summary: people tiring alone might worse kind whatever like alone time service industry one capacity another whole working life around people thing sociable charming whatever frequently start feel shitty alone feel bad decisions make feelings place life want someone talk fuck want admit things people know wonderful girlfriend understanding kind say anyone really frequently shove bad away somehow feel like ignoring healthy feels like crap know tired\n",
      "Predicted Summary: people tiring alone might worse kind introvert make feelings place admit things people somehow feel like\n",
      "Reference Summary Type: <class 'str'>\n",
      "Predicted Summary Type: <class 'str'>\n",
      "Reference Summary: long deadroses story end met mutual friends time one best friends class along perfectly suddenly megan become close friends snapchat apparently sisters friends amp related lot music well month aware megan really close friends friends like morning sends text talking amp going lie felt taken still broken one best friends amp gwen learn amp gwen cool danny hated guts like third time known getting sloppy megan get argument amp stopped talking dating fast forward months school amp girlfriend time really felt megan like really felt together amp hate gwen cut cause sketchy danny pretends friend turn amp consistently make amp megan try hard friend working amp fucking torture lost knew deserved said anything constantly pains watching smile old friends need advice help need glimmer hope\n",
      "Predicted Summary: one best friends danny amp gwen liked dated turned stopped talking amp pretends friend turn knew deserved never said anything constantly pains watching need glimmer hope\n",
      "Reference Summary Type: <class 'str'>\n",
      "Predicted Summary Type: <class 'str'>\n",
      "Reference Summary: oftentimes obsess meaningless memories oftentimes home remember dumb cringey memories younger years rather forget stupid shit like trying lie easy lie teacher hw using someone else project ceramics class getting sent office trying steal piece candy teachers desk none shit really affects not seem stop thinking stuff\n",
      "Predicted Summary: obsess meaningless memories oftentimes home remember dumb rather forget stupid teacher hw using someone else project ceramics class getting affects can not stuff\n",
      "Reference Summary Type: <class 'str'>\n",
      "Predicted Summary Type: <class 'str'>\n",
      "Reference Summary: ways deal pain want sleep time sleeping hurting young drink legally currently fake can not really self medicate alcohol frequently go higher dose meds hopefully numb lately main way escaping negative thoughts sleeping maybe going back college weeks help want suggestions dealing pain\n",
      "Predicted Summary: deal pain want sleeping hurting young currently fake can numb lately main way thoughts sleeping video\n",
      "Reference Summary Type: <class 'str'>\n",
      "Predicted Summary Type: <class 'str'>\n",
      "Reference Summary: someone tell worthless told several times bad rely people help feel nowhere else turn want someone hold prove wrong tell valued worthless alone shitty thoughts memories tell worthless probably even need paid professional bullshit want simple human connection tell worth stay\n",
      "Predicted Summary: tell worthless told times bad rely prove wrong tell valued worthless alone tell worthless probably tell bullshit want\n",
      "Reference Summary Type: <class 'str'>\n",
      "Predicted Summary Type: <class 'str'>\n",
      "Reference Summary: hours already dog fostered friend dog escaped friend freaking freaked boyfriend drive get dog said drinking lost shit tried talk despite attempts distance smacked wth shoe kinds names book holes walls belongings smashed destroyed literally talked future together hours ago bam stupid cunt piece shit bitch hours praying wake fault left alone right ever bed feels empty can not stop shaking want vomit everywhere love anything would forgive heartbeat\n",
      "Predicted Summary: freaking freaked boyfriend lost shit tried talk dumped called kinds names cunt piece shit bitch hours praying wake fault alone nothing ever love ever loved\n",
      "Reference Summary Type: <class 'str'>\n",
      "Predicted Summary Type: <class 'str'>\n",
      "Reference Summary: said family night invited going cake minimal drinking new people meet even little things make happy\n",
      "Predicted Summary: \n",
      "Reference Summary Type: <class 'str'>\n",
      "Predicted Summary Type: <class 'str'>\n",
      "Reference Summary: never felt low anymore venot good friend daughter sister\n",
      "Predicted Summary: \n",
      "Reference Summary Type: <class 'str'>\n",
      "Predicted Summary Type: <class 'str'>\n",
      "Reference Summary: experienced depressive period feel like sinking back left happy low paid job one better money prospects absolutely hate hate thought hate thought able job hate much time takes despite contracted two hours previous job understand nerves new start starting wonder worth effort much happier previous job work invade life thoughts suffered depression though connected work feel longer new job less enjoying life absolutely miserable unwanting anything past week know kind words would greatly\n",
      "Predicted Summary: sinking back left hate hate thought hate thought able hate much time suffered depression though connected miserable unwanting anything\n",
      "Reference Summary Type: <class 'str'>\n",
      "Predicted Summary Type: <class 'str'>\n",
      "Reference Summary: want cry bad want cry want damn cry cant cry come im full pressure wont release wouldnt mind passing peacefully sleep\n",
      "Predicted Summary: bad want cry want damn cry cant cry nothing come\n",
      "Reference Summary Type: <class 'str'>\n",
      "Predicted Summary Type: <class 'str'>\n",
      "Reference Summary: still believe god even though allowed end state watching suffer learn gain strength say reason god without giving specific reason\n",
      "Predicted Summary: watching suffer learn\n",
      "Reference Summary Type: <class 'str'>\n",
      "Predicted Summary Type: <class 'str'>\n",
      "Reference Summary: know anymore past days miserable hit new low kind miserable parents snapped knowing threatened kick walked grabbed pack ran tried bring back whole chase scene hours went back anything returned single lecture nobody going care probably right word travels fast family believe ruined new years dont want face anymore none understand going friends talk anymore brother sister ignore dont like parents also ignore going suggest shouldnt depressed bc theyre depressed uncles think help say im rambling point im laying bed legs sore body numb drowning despair go want end im afraid want leave go even wont know start life back scared im considering things never done long post help would greatly get ranting bit knowing world\n",
      "Predicted Summary: miserable hit new miserable parents snapped new years everyone like parents also shouldnt depressed bc depressed even aunts uncles think help say im go want end im afraid want leave know start life help would greatly\n",
      "Reference Summary Type: <class 'str'>\n",
      "Predicted Summary Type: <class 'str'>\n",
      "Reference Summary: looks problem self confidence look really proud category know ever thing whenever pass someone even stranger see ugliest person world whatever reason also problem comparing others every case getting sad anyone else relate\n",
      "Predicted Summary: self stranger always think ugliest person world whatever reason others every case else relate\n",
      "Reference Summary Type: <class 'str'>\n",
      "Predicted Summary Type: <class 'str'>\n",
      "Reference Summary: tired bringing friends anyone else hate venting friends problems like dragging level every time vent feel gotten something chest feel worse next day made day worse talking depression\n",
      "Predicted Summary: bringing else hate venting friends problems feels like dragging level every vent feel little worse next day worse talking depression\n",
      "Reference Summary Type: <class 'str'>\n",
      "Predicted Summary Type: <class 'str'>\n",
      "Reference Summary: starting year feeling like crap emotionally unstable since last night unstable day feeling like shit since lonely\n",
      "Predicted Summary: like crap emotionally unstable since night unstable day like shit since lonely shitty\n",
      "Reference Summary Type: <class 'str'>\n",
      "Predicted Summary Type: <class 'str'>\n",
      "Reference Summary: withdrawal taking sertraline months max dosage months better mindset changed looked back could believe thoughts scared bad thinking reduce dosage stop taking withdrawals expected read others truly understand intense mindset going back slept hours maximum night constant brain sweats gone back yet gone week without wondering hold get worse long problem taking meds mind crutch felt better wanted leave part life behind remembering take pulls back headspace negative thoughts anxiety part withdrawal symptoms slipping back old way thinking\n",
      "Predicted Summary: fine reduce dosage stop hours maximum night gone week without wondering part life behind remembering take\n",
      "Reference Summary Type: <class 'str'>\n",
      "Predicted Summary Type: <class 'str'>\n",
      "Reference Summary: god every firework like another knife heart first ever mental breakdown losing alone sad\n",
      "Predicted Summary: knife heart think breakdown losing alone sad\n",
      "Reference Summary Type: <class 'str'>\n",
      "Predicted Summary Type: <class 'str'>\n",
      "Reference Summary: sleep deprived feeling good first time weeks got hour worth sleep last night uncomfortable sleep without exhausting passing today felt light generally somehow better past weeks course really sleep deprivation making giddy ive felt sluggish long highs like blow mind really dont want sleep tonight mood swing reasons else get hour two sleep regular really pills despite obvious negative effects lack sleep really way feeling good\n",
      "Predicted Summary: feeling night uncomfortable sleep felt sluggish long highs like like blow mind want sleep tonight good\n",
      "Reference Summary Type: <class 'str'>\n",
      "Predicted Summary Type: <class 'str'>\n",
      "Reference Summary: need help feeling unbearably alone hello college freshman home winter break feeling really alone old friend group high school kind away went different high school seeing plenty facebook posts hanging together really close even reached really close church friends junior year basically vanished senior year dad left family work get scholarship college like big family include stuff can not escape feeling guest member family get full ride meant go school state going state still see time super close start kind hurts see college friends hanging friends home still super close really luxury one guy think friends rest life best buddy high school still really close girlfriend goes school dc home see grateful wish bigger friend group home still close loved college really found new best friend yet still kind struggled feeling like outsider really fitting plenty surface friends want close supportive friend group anything world hope late anyone relate weird close people high school get rid feelings loneliness feeling like failure find looking college\n",
      "Predicted Summary: really alone old college friends hanging like outsider really fitting plenty surface people high school like failure find looking college\n",
      "Reference Summary Type: <class 'str'>\n",
      "Predicted Summary Type: <class 'str'>\n",
      "Reference Summary: time yet another days fucking nothing point even try learned mess called life point trying life harder every single day lead hard work stress us nothing end humans work fucking jackshit excuse profanity serious actually point torturous cycle called life willing right jump overpass\n",
      "Predicted Summary: nothing point even called life point work stress get us nothing jackshit excuse profanity serious actually point torturous cycle called life willing jump overpass can not\n",
      "Reference Summary Type: <class 'str'>\n",
      "Predicted Summary Type: <class 'str'>\n",
      "Reference Summary: need serious help even close person used understand people change normal healthy every step way getting worse rarely feel happy anymore emotion really feel anger hatred everything annoys earlier today talking started saying things without even thinking slammed box fiddling onto table everywhere stormed immediately felt regret not take back enjoy hanging talking people anymore rarely passion anything anymore understand became way people supposed live fix view world absolutely idea feel like dark place mentally relationships kind difficult care people enough maintain relationships sorry kind outpour whatever thinking time genuinely pretty lost improve mental state looking get post guess advice anything really male amp unemployed can not really teach feel pretty stuck regard also owe credit card company debts could pay quit job movie theater another job something went wrong systems job able find since probably part might feel subconsciously also gained lot weight past months losing lot lb almost pretty sure back started want join air force years help pay college first need get fit pretty daunting considering weight put back unhealthy eating habits little better type would appreciate kind advice throwaway account around next days thanks reading\n",
      "Predicted Summary: getting worse rarely feel anger hatred anyone everything annoys earlier today can not take place mentally relationships care people enough kind outpour whatever thinking time genuinely mental state know drive mom can also owe credit pay quit job job able find almost pretty sure put unhealthy eating little better type would appreciate kind\n",
      "Reference Summary Type: <class 'str'>\n",
      "Predicted Summary Type: <class 'str'>\n",
      "Reference Summary: fear live six month stretches routine bliss yields bleak obsessions time spent alone aching abscess distraction disrupts process\n",
      "Predicted Summary: live yields bleak obsessions aching abscess distraction disrupts process\n",
      "Reference Summary Type: <class 'str'>\n",
      "Predicted Summary Type: <class 'str'>\n",
      "Reference Summary: seeking suggestions struggled depression adult life feelings complete hopelessness happen time even things going really could maybe help snap truly dreadful\n",
      "Predicted Summary: struggled depression adult life hopelessness happen time even feeling\n",
      "Reference Summary Type: <class 'str'>\n",
      "Predicted Summary Type: <class 'str'>\n",
      "Reference Summary: worse every loop can not stop negative thinking everything life fucked beyond repair poor decisions also situations circumstances control zero future way changing anything become trapped cycle chronic pain depression anxiety hard tell difference one causes vice can not work pain crippling depression also denied social security told disabled enough depressed enough could shove pills mouth want eternally damned living fixed income things supposed different way rewarding career making damn good money everything crumbled literally lost everything intelligence good looks anything life physically disabling conditions can not stop carousel shitty thoughts plays head every day zero friends anymore talk family work honestly barely even leave house shitty ex wife everything power punish alienate children could longer care half time anymore injuries spiral downward life small going insane boredom isolation get full blown panic everything fucked really can not fix bipolar adhd gad life shit show never come back anymore lol money love children much abandon children keep alive also part reason depressed anxious life kind honestly know handle anymore gotten point literally stare phone lay bed entire day struggle even put food mouth usually\n",
      "Predicted Summary: every stop negative thinking repair poor decisions become trapped cycle chronic pain depression anxiety hard tell causes vice versa work pain crippling depression also denied social security told enough depressed enough could shove living fixed income things everything crumbled literally good looks anything life physically injuries spiral downward life small everything fucked really can not bipolar ii ptsd ocd run lol money love children lay bed entire day\n"
     ]
    }
   ],
   "source": [
    "rouge_scores = []\n",
    "\n",
    "for _, row in test.iterrows():\n",
    "    text = row['post']\n",
    "    labels = row['labels']\n",
    "    reference_summary = reconstruct_summary_from_labels(text, labels)\n",
    "    predicted_summary = extractive_summary(text, loaded_model, loaded_tokenizer)\n",
    "    \n",
    "    print(\"Reference Summary Type:\", type(reference_summary))\n",
    "    print(\"Predicted Summary Type:\", type(predicted_summary))\n",
    "    print(\"Reference Summary:\", reference_summary)\n",
    "    print(\"Predicted Summary:\", predicted_summary)\n",
    "    \n",
    "    if isinstance(reference_summary, list):\n",
    "        reference_summary = ' '.join(reference_summary)\n",
    "    if isinstance(predicted_summary, list):\n",
    "        predicted_summary = ' '.join(predicted_summary)\n",
    "\n",
    "    scores = scorer.score(reference_summary, predicted_summary)\n",
    "    rouge_scores.append(scores)"
   ]
  },
  {
   "cell_type": "code",
   "execution_count": 38,
   "id": "aea41be6-15f1-4a25-af92-87fa54d753c4",
   "metadata": {},
   "outputs": [
    {
     "name": "stdout",
     "output_type": "stream",
     "text": [
      "Average ROUGE scores on the test set:\n",
      "rouge1: 0.4445\n",
      "rouge2: 0.3178\n",
      "rougeL: 0.4356\n"
     ]
    }
   ],
   "source": [
    "average_scores = {key: sum(score[key].fmeasure for score in rouge_scores) / len(rouge_scores) for key in rouge_scores[0]}\n",
    "\n",
    "print(\"Average ROUGE scores on the test set:\")\n",
    "for key, score in average_scores.items():\n",
    "    print(f\"{key}: {score:.4f}\")"
   ]
  },
  {
   "cell_type": "code",
   "execution_count": null,
   "id": "3ef5bdb5-180f-47f2-897e-a9e0d552c062",
   "metadata": {},
   "outputs": [],
   "source": []
  }
 ],
 "metadata": {
  "kernelspec": {
   "display_name": "Python 3 (ipykernel)",
   "language": "python",
   "name": "python3"
  },
  "language_info": {
   "codemirror_mode": {
    "name": "ipython",
    "version": 3
   },
   "file_extension": ".py",
   "mimetype": "text/x-python",
   "name": "python",
   "nbconvert_exporter": "python",
   "pygments_lexer": "ipython3",
   "version": "3.10.14"
  }
 },
 "nbformat": 4,
 "nbformat_minor": 5
}
